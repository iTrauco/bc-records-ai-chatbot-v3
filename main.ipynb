{
 "cells": [
  {
   "cell_type": "code",
   "execution_count": 13,
   "id": "e6eee2cc",
   "metadata": {},
   "outputs": [],
   "source": [
    "%%capture\n",
    "!pip3 install google-auth google-cloud-dialogflow-cx"
   ]
  },
  {
   "cell_type": "code",
   "execution_count": 14,
   "id": "fc90d2ef",
   "metadata": {},
   "outputs": [],
   "source": [
    "# data manipulation modules\n",
    "import pandas as pd\n",
    "import numpy as np\n",
    "\n",
    "# general python modules\n",
    "import json\n",
    "import csv\n",
    "import io \n",
    "import os\n",
    "\n",
    "# dialogflow cx imports\n",
    "from dfcx_scrapi.core.agents import Agents\n",
    "from dfcx_scrapi.core.intents import Intents\n",
    "from dfcx_scrapi.core.flows import Flows\n",
    "from dfcx_scrapi.core.pages import Pages\n",
    "from dfcx_scrapi.tools.dataframe_functions import DataframeFunctions\n",
    "from dfcx_scrapi.tools.maker_util import MakerUtil\n",
    "\n",
    "# connection to g-sheets\n",
    "import gspread\n",
    "from oauth2client.service_account import ServiceAccountCredentials\n",
    "from df2gspread import df2gspread as d2g\n",
    "\n",
    "from google.cloud import dialogflowcx_v3beta1\n"
   ]
  },
  {
   "cell_type": "code",
   "execution_count": 15,
   "id": "1e7f3ef1",
   "metadata": {},
   "outputs": [],
   "source": [
    "# GCP Service Account Scopes \n",
    "# master systems analysis and design dxfc g-sheets workbook... Can be viewed and copied at https://itrau.co/dfcx-sad\n",
    "\n",
    "scope = ['https://www.googleapis.com/auth/spreadsheets','https://www.googleapis.com/auth/drive']\n",
    "\n",
    "\n",
    "#authorize sa\n",
    "credentials = ServiceAccountCredentials.from_json_keyfile_name('/Users/christophertrauco/.config/secrets/cx_admin_sa.json', scope)\n",
    "client = gspread.authorize(credentials)\n",
    "spreadsheet_key = '18qvh0uWkA0z7S5CC3xTdvD2wkhsmnINjgxUWmuoCo7M'\n",
    "sh = client.open_by_key(spreadsheet_key)\n"
   ]
  },
  {
   "cell_type": "code",
   "execution_count": 26,
   "id": "e97c3f94",
   "metadata": {},
   "outputs": [],
   "source": [
    "%%capture\n",
    "%%sh\n",
    "./etl.sh\n"
   ]
  },
  {
   "cell_type": "code",
   "execution_count": 27,
   "id": "e6366125",
   "metadata": {},
   "outputs": [
    {
     "name": "stdout",
     "output_type": "stream",
     "text": [
      "The sheet is updated successfully\n"
     ]
    }
   ],
   "source": [
    "# gcp project_id mappings to g-sheets\n",
    "\n",
    "file = 'projects'\n",
    "\n",
    "data = f'{file}.csv'\n",
    "df = pd.read_csv(data)\n",
    "\n",
    "# write gcp projects to sad dfcx workbook\n",
    "\n",
    "wks_name = sh.worksheet('Mappings').acell('B1').value\n",
    "cell_of_start_df = 'A1'\n",
    "# upload the dataframe of the clients we want to delete\n",
    "d2g.upload(df,\n",
    "           spreadsheet_key,\n",
    "           wks_name,\n",
    "           credentials=credentials,\n",
    "           col_names=True,\n",
    "           row_names=False,\n",
    "           start_cell = cell_of_start_df,\n",
    "           clean=False)\n",
    "print ('The sheet is updated successfully')"
   ]
  },
  {
   "cell_type": "code",
   "execution_count": 28,
   "id": "177f4afb",
   "metadata": {},
   "outputs": [],
   "source": [
    "project_id = sh.worksheet('Main').acell('B1').value\n",
    "display_name = sh.worksheet('Main').acell('B2').value\n",
    "gcp_region = sh.worksheet('Main').acell('B3').value\n",
    "zone = sh.worksheet('Main').acell('B4').value\n",
    "language = sh.worksheet('Main').acell('B5').value\n",
    "time_zone = sh.worksheet('Main').acell('B6').value\n",
    "creds_path = sh.worksheet('Main').acell('B8').value"
   ]
  },
  {
   "cell_type": "code",
   "execution_count": 31,
   "id": "0961a686",
   "metadata": {},
   "outputs": [],
   "source": [
    "# gcp list all agents within scope of mapped project_id\n",
    "def list_agents():\n",
    "    # Create a client\n",
    "    client = dialogflowcx_v3beta1.AgentsClient()\n",
    "\n",
    "    # Initialize request argument(s)\n",
    "    request = dialogflowcx_v3beta1.ListAgentsRequest(\n",
    "        parent=\"projects/bot1-404120/locations/global\",\n",
    "    )\n",
    "\n",
    "    # Make the request\n",
    "    page_result = client.list_agents(request=request)\n",
    "\n",
    "    # Handle the response\n",
    "    for response in page_result:\n",
    "        print(response)\n",
    "\n",
    "        # # [END dialogflow_v3beta1_generated_Agents_ListAgents_sync]"
   ]
  },
  {
   "cell_type": "code",
   "execution_count": null,
   "id": "e47f299e",
   "metadata": {},
   "outputs": [],
   "source": []
  },
  {
   "cell_type": "code",
   "execution_count": 33,
   "id": "914587fc",
   "metadata": {},
   "outputs": [
    {
     "name": "stdout",
     "output_type": "stream",
     "text": [
      "The sheet is updated successfully\n"
     ]
    }
   ],
   "source": [
    "df = pd.read_csv('agents.csv')\n",
    "# print(df)\n",
    "\n",
    "wks_name = sh.worksheet('Mappings').acell('B2').value\n",
    "cell_of_start_df = 'A1'\n",
    "# upload the dataframe of the clients we want to delete\n",
    "d2g.upload(df,\n",
    "           spreadsheet_key,\n",
    "           wks_name,\n",
    "           credentials=credentials,\n",
    "           col_names=True,\n",
    "           row_names=False,\n",
    "           start_cell = cell_of_start_df,\n",
    "           clean=True)\n",
    "print ('The sheet is updated successfully')"
   ]
  },
  {
   "cell_type": "code",
   "execution_count": null,
   "id": "770511b8",
   "metadata": {},
   "outputs": [],
   "source": []
  }
 ],
 "metadata": {
  "kernelspec": {
   "display_name": "Python 3 (ipykernel)",
   "language": "python",
   "name": "python3"
  },
  "language_info": {
   "codemirror_mode": {
    "name": "ipython",
    "version": 3
   },
   "file_extension": ".py",
   "mimetype": "text/x-python",
   "name": "python",
   "nbconvert_exporter": "python",
   "pygments_lexer": "ipython3",
   "version": "3.11.5"
  }
 },
 "nbformat": 4,
 "nbformat_minor": 5
}
